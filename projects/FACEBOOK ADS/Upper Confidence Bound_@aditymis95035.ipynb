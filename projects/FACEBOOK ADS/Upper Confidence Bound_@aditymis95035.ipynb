{
 "cells": [
  {
   "cell_type": "markdown",
   "metadata": {
    "id": "Z-jZGC0q0aiY"
   },
   "source": [
    "# Upper Confidence Bound"
   ]
  },
  {
   "cell_type": "markdown",
   "metadata": {},
   "source": [
    "# %% [markdown]\n",
    "# ## Upper Confidence Bound (UCB) for Facebook Ads Optimization\n",
    "# **Algorithm**:  \n",
    "# Uses confidence intervals to balance exploration-exploitation. Selects ads with the highest upper confidence bound."
   ]
  },
  {
   "cell_type": "markdown",
   "metadata": {
    "id": "jE4Rc_OO0eJM"
   },
   "source": [
    "## Importing libraries"
   ]
  },
  {
   "cell_type": "markdown",
   "metadata": {},
   "source": [
    "# %% [code]"
   ]
  },
  {
   "cell_type": "code",
   "execution_count": null,
   "metadata": {},
   "outputs": [],
   "source": [
    "import numpy as np\n",
    "import matplotlib.pyplot as plt\n",
    "import pandas as pd\n",
    "import math"
   ]
  },
  {
   "cell_type": "markdown",
   "metadata": {},
   "source": [
    "# %% [markdown]\n",
    "# ### Step 1: Generate Synthetic Dataset (Same as Thompson Sampling)"
   ]
  },
  {
   "cell_type": "markdown",
   "metadata": {},
   "source": [
    "# %% [code]"
   ]
  },
  {
   "cell_type": "code",
   "execution_count": null,
   "metadata": {},
   "outputs": [],
   "source": [
    "np.random.seed(42)\n",
    "num_users = 200  # Fewer users for UCB's exploration phase\n",
    "num_ads = 10\n",
    "\n",
    "data = np.zeros((num_users, num_ads))\n",
    "for col in range(num_ads):\n",
    "    if col in [3, 7]:\n",
    "        data[:, col] = np.random.binomial(1, 0.3, num_users)\n",
    "    else:\n",
    "        data[:, col] = np.random.binomial(1, 0.1, num_users)\n",
    "\n",
    "dataset = pd.DataFrame(data)"
   ]
  },
  {
   "cell_type": "markdown",
   "metadata": {},
   "source": [
    "# %% [markdown]\n",
    "# ### Step 2: Implement UCB Algorithm"
   ]
  },
  {
   "cell_type": "markdown",
   "metadata": {
    "id": "A9-xGHd20gY1"
   },
   "source": [
    "## Importing dataset"
   ]
  },
  {
   "cell_type": "markdown",
   "metadata": {},
   "source": [
    "# %% [code]"
   ]
  },
  {
   "cell_type": "code",
   "execution_count": null,
   "metadata": {},
   "outputs": [],
   "source": [
    " T = 200  # Total users\n",
    "num_ads = 10\n",
    "ads_selected = []\n",
    "numbers_of_selections = [0] * num_ads\n",
    "sums_of_rewards = [0] * num_ads\n",
    "total_reward = 0\n",
    "\n",
    "for n in range(T):\n",
    "    max_upper_bound = -1\n",
    "    best_ad = 0\n",
    "    for i in range(num_ads):\n",
    "        if numbers_of_selections[i] == 0:\n",
    "            upper_bound = 1e400  # Force exploration for unselected ads\n",
    "        else:\n",
    "            avg_reward = sums_of_rewards[i] / numbers_of_selections[i]\n",
    "            delta_i = math.sqrt(1.5 * math.log(n + 1) / numbers_of_selections[i])\n",
    "            upper_bound = avg_reward + delta_i\n",
    "        if upper_bound > max_upper_bound:\n",
    "            max_upper_bound = upper_bound\n",
    "            best_ad = i\n",
    "    ads_selected.append(best_ad)\n",
    "    numbers_of_selections[best_ad] += 1\n",
    "    reward = dataset.values[n, best_ad]\n",
    "    sums_of_rewards[best_ad] += reward\n",
    "    total_reward += reward"
   ]
  },
  {
   "cell_type": "markdown",
   "metadata": {},
   "source": [
    "# %% [markdown]\n",
    "# ### Step 3: Plot Results"
   ]
  },
  {
   "cell_type": "markdown",
   "metadata": {},
   "source": [
    "# %% [code]"
   ]
  },
  {
   "cell_type": "markdown",
   "metadata": {
    "id": "8REFJFGC0lRN"
   },
   "source": [
    "## Implementation"
   ]
  },
  {
   "cell_type": "code",
   "execution_count": null,
   "metadata": {},
   "outputs": [],
   "source": [
    "plt.figure(figsize=(10,6))\n",
    "plt.hist(ads_selected, bins=np.arange(11)-0.5, edgecolor='black')\n",
    "plt.xticks(range(10))\n",
    "plt.title('Histogram of Ads Selections (UCB)')\n",
    "plt.xlabel('Ad Index')\n",
    "plt.ylabel('Number of Selections')\n",
    "plt.show()\n",
    "\n",
    "print(f\"Total rewards: {total_reward}\")"
   ]
  },
  {
   "cell_type": "markdown",
   "metadata": {
    "id": "2QUFYaoH00H6"
   },
   "source": [
    "## Histogram Visualization"
   ]
  }
 ],
 "metadata": {
  "colab": {
   "authorship_tag": "ABX9TyN9lSpWLem/yQLzPypDczCV",
   "name": "Upper Confidence Bound Template.ipynb",
   "provenance": [],
   "toc_visible": true
  },
  "kernelspec": {
   "display_name": "Python 3",
   "name": "python3"
  }
 },
 "nbformat": 4,
 "nbformat_minor": 0
}
