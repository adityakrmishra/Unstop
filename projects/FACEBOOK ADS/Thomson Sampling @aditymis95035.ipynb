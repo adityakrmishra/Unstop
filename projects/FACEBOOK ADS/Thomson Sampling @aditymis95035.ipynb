{
 "cells": [
  {
   "cell_type": "markdown",
   "metadata": {
    "id": "Z-jZGC0q0aiY"
   },
   "source": [
    "# Thomson Sampling"
   ]
  },
  {
   "cell_type": "markdown",
   "metadata": {},
   "source": [
    "# %% [markdown]\n",
    "# ## Thompson Sampling for Facebook Ads Optimization\n",
    "# **Algorithm**:  \n",
    "# Uses Beta distribution to balance exploration-exploitation. Each ad's reward probability is modeled as a Bernoulli distribution."
   ]
  },
  {
   "cell_type": "markdown",
   "metadata": {
    "id": "jE4Rc_OO0eJM"
   },
   "source": [
    "## Importing libraries"
   ]
  },
  {
   "cell_type": "markdown",
   "metadata": {},
   "source": [
    "# %% [code]"
   ]
  },
  {
   "cell_type": "code",
   "execution_count": null,
   "metadata": {},
   "outputs": [],
   "source": [
    "import numpy as np\n",
    "import matplotlib.pyplot as plt\n",
    "import pandas as pd\n",
    "import random"
   ]
  },
  {
   "cell_type": "markdown",
   "metadata": {},
   "source": [
    "# %% [markdown]\n",
    "# ### Step 1: Generate Synthetic Dataset\n",
    "# Create a dataset with 10 ads and 15,000 user interactions.  \n",
    "# Ads 3 and 7 have higher conversion rates (30%) to simulate real-world variability.\n"
   ]
  },
  {
   "cell_type": "markdown",
   "metadata": {},
   "source": [
    "# %% [code]"
   ]
  },
  {
   "cell_type": "code",
   "execution_count": null,
   "metadata": {},
   "outputs": [],
   "source": [
    "np.random.seed(42)\n",
    "num_users = 15000\n",
    "num_ads = 10"
   ]
  },
  {
   "cell_type": "markdown",
   "metadata": {},
   "source": [
    "# Create synthetic data: 1=click, 0=no click"
   ]
  },
  {
   "cell_type": "code",
   "execution_count": null,
   "metadata": {},
   "outputs": [],
   "source": [
    "# Create synthetic data: 1=click, 0=no click\n",
    "data = np.zeros((num_users, num_ads))\n",
    "for col in range(num_ads):\n",
    "    if col in [3, 7]:  # High-performing ads\n",
    "        data[:, col] = np.random.binomial(1, 0.3, num_users)\n",
    "    else:\n",
    "        data[:, col] = np.random.binomial(1, 0.1, num_users)\n",
    "\n",
    "dataset = pd.DataFrame(data)"
   ]
  },
  {
   "cell_type": "markdown",
   "metadata": {},
   "source": [
    "# %% [markdown]\n",
    "# ### Step 2: Implement Thompson Sampling"
   ]
  },
  {
   "cell_type": "markdown",
   "metadata": {},
   "source": [
    "# %% [code]"
   ]
  },
  {
   "cell_type": "code",
   "execution_count": null,
   "metadata": {},
   "outputs": [],
   "source": [
    "N = 15000  # Total users\n",
    "num_ads = 10\n",
    "ads_selected = []\n",
    "num_rewards_1 = [0] * num_ads  # Count of rewards=1\n",
    "num_rewards_0 = [0] * num_ads  # Count of rewards=0\n",
    "total_reward = 0\n",
    "\n",
    "for n in range(N):\n",
    "    max_beta = -1\n",
    "    selected_ad = 0\n",
    "    for i in range(num_ads):\n",
    "        # Draw from Beta(α=successes+1, β=failures+1)\n",
    "        beta_random = random.betavariate(num_rewards_1[i] + 1, num_rewards_0[i] + 1)\n",
    "        if beta_random > max_beta:\n",
    "            max_beta = beta_random\n",
    "            selected_ad = i\n",
    "    ads_selected.append(selected_ad)\n",
    "    reward = dataset.values[n, selected_ad]\n",
    "    if reward == 1:\n",
    "        num_rewards_1[selected_ad] += 1\n",
    "    else:\n",
    "        num_rewards_0[selected_ad] += 1\n",
    "    total_reward += reward\n"
   ]
  },
  {
   "cell_type": "markdown",
   "metadata": {},
   "source": [
    "# %% [markdown]\n",
    "# ### Step 3: Plot Results"
   ]
  },
  {
   "cell_type": "markdown",
   "metadata": {},
   "source": [
    "# %% [code]"
   ]
  },
  {
   "cell_type": "code",
   "execution_count": null,
   "metadata": {},
   "outputs": [],
   "source": [
    "plt.figure(figsize=(10,6))\n",
    "plt.hist(ads_selected, bins=np.arange(11)-0.5, edgecolor='black')\n",
    "plt.xticks(range(10))\n",
    "plt.title('Histogram of Ads Selections (Thompson Sampling)')\n",
    "plt.xlabel('Ad Index')\n",
    "plt.ylabel('Number of Selections')\n",
    "plt.show()\n",
    "\n",
    "print(f\"Total rewards: {total_reward}\")"
   ]
  },
  {
   "cell_type": "markdown",
   "metadata": {
    "id": "A9-xGHd20gY1"
   },
   "source": [
    "## Importing dataset"
   ]
  },
  {
   "cell_type": "markdown",
   "metadata": {
    "id": "8REFJFGC0lRN"
   },
   "source": [
    "## Implementation"
   ]
  },
  {
   "cell_type": "markdown",
   "metadata": {
    "id": "2QUFYaoH00H6"
   },
   "source": [
    "## Histogram Visualization"
   ]
  }
 ],
 "metadata": {
  "colab": {
   "authorship_tag": "ABX9TyMT/51e3J8KKaD+91GXTHXw",
   "name": "Thomson Sampling Template.ipynb",
   "provenance": [],
   "toc_visible": true
  },
  "kernelspec": {
   "display_name": "Python 3",
   "name": "python3"
  }
 },
 "nbformat": 4,
 "nbformat_minor": 0
}
